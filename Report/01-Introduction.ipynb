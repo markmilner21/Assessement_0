{
 "cells": [
  {
   "cell_type": "markdown",
   "metadata": {},
   "source": [
    "# Data Science Toolbox Assessment 0\n",
    "\n",
    "## Introduction\n",
    "\n",
    "The first project we were to undertake was to:\n",
    "\n",
    "1. Give us experience with collaborative working\n",
    "2. Give us additional experience with programming\n",
    "3. Give us experience with the assessment used\n",
    "\n",
    "For our project we looked at a variety of datasets relating to COVID-19 and factors affects COVID-19 spread. We explored the following questions:\n",
    "\n",
    "* What are the broad types of data?\n",
    "* What are the main types of resource?\n",
    "* How might the approach be compared to other approaches, and/or applied across different datasets?\n",
    "* How is the experience of sharing code via GitHub limiting, and/or enabling?\n",
    "\n",
    "Data resources from [Our World in Data](https://ourworldindata.org/) were particularly useful for this project and we focused on variables affecting the spread of COVID-19 including ICU admissions, vaccination rates, and socioeconimic and demographic indicators. This led us to experiment with linear and polynomial regression models as well as machine learning models such as Random Forests and Decision Trees. This project gave us good exposure to working with these kinds of machine learning models and metrics.\n",
    "\n",
    "In the following documents within the report, we have documented our findings over the last 2 weeks."
   ]
  }
 ],
 "metadata": {
  "language_info": {
   "name": "python"
  }
 },
 "nbformat": 4,
 "nbformat_minor": 2
}
