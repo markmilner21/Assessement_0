{
 "cells": [
  {
   "cell_type": "markdown",
   "metadata": {},
   "source": [
    "## **Assessment 0**\n",
    "\n",
    "**Introduction**\n",
    "\n",
    "The following documentation is an analysis of COVID-19 data relating to vaccinations rates, death rates and government stringency. Our aim is to analyse the data using regression resources and discuss the utility of these resources.\n",
    "\n",
    "The following pre-requisites are required:\n"
   ]
  },
  {
   "cell_type": "code",
   "execution_count": 32,
   "metadata": {},
   "outputs": [],
   "source": [
    "import numpy as np\n",
    "import pandas as pd\n",
    "import matplotlib.pyplot as plt\n",
    "import plotly.express as px\n",
    "from sklearn.model_selection import train_test_split\n",
    "from sklearn.linear_model import LinearRegression\n",
    "from sklearn.metrics import mean_squared_error, r2_score\n",
    "from sklearn.preprocessing import PolynomialFeatures\n",
    "from sklearn.ensemble import RandomForestRegressor"
   ]
  },
  {
   "cell_type": "markdown",
   "metadata": {},
   "source": [
    "You will also need the following libraries: pandas, numpy, matplotlib, scikit-learn.\n",
    "\n",
    "**Instructions for importing the datasets:**\n",
    "\n",
    "1. You can import the first dataset [here](https://ourworldindata.org/covid-vaccinations). \n",
    "2. At the bottom right of the graph entitled \"Daily COVID-19 vaccination doses administered per million people\", there is a download button. Press this button and then choose to download \"The full dataset used in this chart\" as a CSV file.\n",
    "3. Save this file to your prefered directory, under the file-name \"covid_vaccinations.csv\".\n",
    "4. Import the second dataset [here](https://ourworldindata.org/covid-deaths) using the same instructions as above. (NOT the data under the heading \"Our work belongs to everyone\", but the data at the bottom right of the graph.)\n",
    "5. Save this file under the file-name \"covid_deaths.csv\"\n",
    "6. Import the third dataset [here](https://ourworldindata.org/covid-stringency-index) in the same way and save it under the file name \"gov_stringency.csv\"\n",
    "\n",
    "**Analysis**\n",
    "\n",
    "First we will complete an initial analysis of the first dataset using graphs and we will explore trends in vaccination rates by country. Using the chloropleth function written in Python below, we can see the global vaccination rates for any day of the year between 29/12/2020 and 11/02/2024."
   ]
  },
  {
   "cell_type": "code",
   "execution_count": 10,
   "metadata": {},
   "outputs": [
    {
     "data": {
      "application/vnd.plotly.v1+json": {
       "config": {
        "plotlyServerURL": "https://plot.ly"
       },
       "data": [
        {
         "coloraxis": "coloraxis",
         "geo": "geo",
         "hovertemplate": "Entity=%{location}<br>Doses=%{z}<extra></extra>",
         "locationmode": "country names",
         "locations": [
          "Afghanistan",
          "Africa",
          "Albania",
          "Algeria",
          "Andorra",
          "Angola",
          "Anguilla",
          "Antigua and Barbuda",
          "Argentina",
          "Armenia",
          "Aruba",
          "Asia",
          "Australia",
          "Austria",
          "Azerbaijan",
          "Bahamas",
          "Bahrain",
          "Bangladesh",
          "Barbados",
          "Belarus",
          "Belgium",
          "Belize",
          "Benin",
          "Bermuda",
          "Bhutan",
          "Bolivia",
          "Bosnia and Herzegovina",
          "Botswana",
          "Brazil",
          "British Virgin Islands",
          "Brunei",
          "Bulgaria",
          "Burkina Faso",
          "Burundi",
          "Cambodia",
          "Cameroon",
          "Canada",
          "Cape Verde",
          "Cayman Islands",
          "Central African Republic",
          "Chad",
          "Chile",
          "China",
          "Colombia",
          "Comoros",
          "Congo",
          "Cook Islands",
          "Costa Rica",
          "Cote d'Ivoire",
          "Croatia",
          "Cuba",
          "Curacao",
          "Cyprus",
          "Czechia",
          "Democratic Republic of Congo",
          "Denmark",
          "Djibouti",
          "Dominica",
          "Dominican Republic",
          "East Timor",
          "Ecuador",
          "Egypt",
          "El Salvador",
          "Equatorial Guinea",
          "Estonia",
          "Eswatini",
          "Ethiopia",
          "Europe",
          "European Union (27)",
          "Faroe Islands",
          "Fiji",
          "Finland",
          "France",
          "French Polynesia",
          "Gabon",
          "Gambia",
          "Georgia",
          "Germany",
          "Ghana",
          "Gibraltar",
          "Greece",
          "Greenland",
          "Grenada",
          "Guatemala",
          "Guernsey",
          "Guinea",
          "Guinea-Bissau",
          "Guyana",
          "Haiti",
          "High-income countries",
          "Honduras",
          "Hong Kong",
          "Hungary",
          "Iceland",
          "India",
          "Indonesia",
          "Iran",
          "Iraq",
          "Ireland",
          "Isle of Man",
          "Israel",
          "Italy",
          "Jamaica",
          "Japan",
          "Jersey",
          "Jordan",
          "Kazakhstan",
          "Kenya",
          "Kiribati",
          "Kosovo",
          "Kuwait",
          "Kyrgyzstan",
          "Laos",
          "Latvia",
          "Lebanon",
          "Lesotho",
          "Liberia",
          "Libya",
          "Liechtenstein",
          "Lithuania",
          "Low-income countries",
          "Lower-middle-income countries",
          "Luxembourg",
          "Macao",
          "Madagascar",
          "Malawi",
          "Malaysia",
          "Maldives",
          "Mali",
          "Malta",
          "Mauritania",
          "Mauritius",
          "Mexico",
          "Moldova",
          "Monaco",
          "Mongolia",
          "Montenegro",
          "Montserrat",
          "Morocco",
          "Mozambique",
          "Myanmar",
          "Namibia",
          "Nauru",
          "Nepal",
          "Netherlands",
          "New Caledonia",
          "New Zealand",
          "Nicaragua",
          "Niger",
          "Nigeria",
          "Niue",
          "North America",
          "North Macedonia",
          "Norway",
          "Oceania",
          "Oman",
          "Pakistan",
          "Palestine",
          "Panama",
          "Papua New Guinea",
          "Paraguay",
          "Peru",
          "Philippines",
          "Poland",
          "Portugal",
          "Qatar",
          "Romania",
          "Russia",
          "Rwanda",
          "Saint Kitts and Nevis",
          "Saint Lucia",
          "Saint Vincent and the Grenadines",
          "Samoa",
          "San Marino",
          "Sao Tome and Principe",
          "Saudi Arabia",
          "Senegal",
          "Serbia",
          "Seychelles",
          "Sierra Leone",
          "Singapore",
          "Sint Maarten (Dutch part)",
          "Slovakia",
          "Slovenia",
          "Solomon Islands",
          "Somalia",
          "South Africa",
          "South America",
          "South Korea",
          "South Sudan",
          "Spain",
          "Sri Lanka",
          "Sudan",
          "Suriname",
          "Sweden",
          "Switzerland",
          "Syria",
          "Taiwan",
          "Tajikistan",
          "Tanzania",
          "Thailand",
          "Togo",
          "Tokelau",
          "Tonga",
          "Trinidad and Tobago",
          "Tunisia",
          "Turkey",
          "Turkmenistan",
          "Turks and Caicos Islands",
          "Tuvalu",
          "Uganda",
          "Ukraine",
          "United Arab Emirates",
          "United Kingdom",
          "United States",
          "Upper-middle-income countries",
          "Uruguay",
          "Uzbekistan",
          "Vanuatu",
          "Venezuela",
          "Vietnam",
          "Wallis and Futuna",
          "World",
          "Yemen",
          "Zambia",
          "Zimbabwe"
         ],
         "name": "",
         "type": "choropleth",
         "z": [
          417.33844,
          1195.4338,
          2066.3135,
          496.70602,
          9502.024,
          1497.5657,
          1450.1193,
          709.0854,
          6217.0703,
          1992.1188,
          568.90875,
          5518.7544,
          2997.0862,
          3842.2244,
          1979.3762,
          1554.7384,
          5257.861,
          4898.65,
          685.38275,
          7347.271,
          3952.9558,
          838.09033,
          1419.4316,
          3200.7615,
          663.7142,
          3815.48,
          1346.365,
          1119.932,
          1731.9203,
          297.30856,
          13046.604,
          991.31366,
          476.1609,
          3.0635247,
          2363.759,
          42.624763,
          6182.062,
          1861.8842,
          3155.097,
          705.28064,
          137.83096,
          6494.535,
          8337.295,
          2718.0798,
          2767.4731,
          378.3366,
          944.82495,
          4132.9297,
          3919.3423,
          3033.798,
          12296.505,
          8089.2856,
          3608.5964,
          3598.2727,
          69.41711,
          9771.928,
          534.9303,
          2271.61,
          624.42175,
          734.4738,
          2900.3752,
          3769.055,
          1227.1738,
          27.266485,
          2724.6821,
          592.13965,
          96.056694,
          4090.973,
          4718.7944,
          7368.7524,
          417.65097,
          6984.349,
          5763.237,
          898.2758,
          1286.8082,
          712.1927,
          2346.4358,
          4573.533,
          1794.1909,
          449.9836,
          6309.859,
          105.20329,
          1499.4983,
          1387.6,
          27401.793,
          5233.2466,
          81.06517,
          1020.65924,
          45.24876,
          4066.4966,
          4406.597,
          2139.189,
          1068.4592,
          1105.9215,
          4017.655,
          4853.6504,
          4405.2886,
          857.67365,
          5278.8237,
          4452.4014,
          2505.3354,
          7214.7197,
          495.72162,
          321.48962,
          6464.5996,
          2537.316,
          891.5499,
          1451.4497,
          4903.396,
          878.62195,
          3440.5916,
          747.86597,
          4674.4165,
          3284.7776,
          2796.7898,
          4281.616,
          469.33762,
          1171.5703,
          1231.1514,
          4573.761,
          841.0703,
          3738.0918,
          6789.7573,
          1981.3354,
          251.18005,
          482.77164,
          4068.0251,
          843.1885,
          230.47089,
          11292.658,
          2907.3267,
          4241.6387,
          430.33075,
          1232.759,
          238.1214,
          1034.7604,
          2453.1963,
          1072.3861,
          1452.6064,
          3153.748,
          4012.1816,
          104.71791,
          160.12665,
          7373.8066,
          13134.9795,
          636.6432,
          2160.952,
          4273.356,
          741.0197,
          651.64825,
          2444.6511,
          2806.9995,
          905.108,
          2996.8665,
          2094.906,
          2430.9807,
          4892.764,
          924.35547,
          1616.822,
          45.03173,
          4508.04,
          6152.4814,
          5477.691,
          3097.5571,
          6292.0615,
          2728.6167,
          780.5918,
          2974.458,
          9102.77,
          1612.7913,
          450.83807,
          778.3826,
          263.72922,
          5982.2188,
          5633.9165,
          7141.2295,
          26.029226,
          1702.7769,
          1622.7977,
          144.86261,
          6851.263,
          358.9245,
          540.49866,
          1808.0101,
          871.1071,
          378.39017,
          396.2497,
          3207.609,
          10543.259,
          73.53118,
          1646.2325,
          4903.514,
          180.53584,
          431.66183,
          2539.8494,
          5020.468,
          4013.726,
          3312.2058,
          4099.0264,
          512.93024,
          3770.3982,
          562.1587,
          798.50946,
          4148.3823,
          1733.1881,
          4990.461,
          5876.5415,
          2642.501,
          2664.0608,
          250.60837,
          2887.4192,
          1704.03,
          2640.3706,
          4056.4941,
          3228.4094,
          5758.3105,
          1227.9036,
          3298.1438,
          2350.3333,
          4475.274,
          10196.137,
          637.62573,
          4256.9473,
          50.40022,
          1093.994,
          597.33246
         ]
        }
       ],
       "layout": {
        "coloraxis": {
         "colorbar": {
          "title": {
           "text": "Doses"
          }
         },
         "colorscale": [
          [
           0,
           "rgb(247,251,255)"
          ],
          [
           0.125,
           "rgb(222,235,247)"
          ],
          [
           0.25,
           "rgb(198,219,239)"
          ],
          [
           0.375,
           "rgb(158,202,225)"
          ],
          [
           0.5,
           "rgb(107,174,214)"
          ],
          [
           0.625,
           "rgb(66,146,198)"
          ],
          [
           0.75,
           "rgb(33,113,181)"
          ],
          [
           0.875,
           "rgb(8,81,156)"
          ],
          [
           1,
           "rgb(8,48,107)"
          ]
         ]
        },
        "geo": {
         "center": {},
         "domain": {
          "x": [
           0,
           1
          ],
          "y": [
           0,
           1
          ]
         }
        },
        "legend": {
         "tracegroupgap": 0
        },
        "template": {
         "data": {
          "bar": [
           {
            "error_x": {
             "color": "#2a3f5f"
            },
            "error_y": {
             "color": "#2a3f5f"
            },
            "marker": {
             "line": {
              "color": "#E5ECF6",
              "width": 0.5
             },
             "pattern": {
              "fillmode": "overlay",
              "size": 10,
              "solidity": 0.2
             }
            },
            "type": "bar"
           }
          ],
          "barpolar": [
           {
            "marker": {
             "line": {
              "color": "#E5ECF6",
              "width": 0.5
             },
             "pattern": {
              "fillmode": "overlay",
              "size": 10,
              "solidity": 0.2
             }
            },
            "type": "barpolar"
           }
          ],
          "carpet": [
           {
            "aaxis": {
             "endlinecolor": "#2a3f5f",
             "gridcolor": "white",
             "linecolor": "white",
             "minorgridcolor": "white",
             "startlinecolor": "#2a3f5f"
            },
            "baxis": {
             "endlinecolor": "#2a3f5f",
             "gridcolor": "white",
             "linecolor": "white",
             "minorgridcolor": "white",
             "startlinecolor": "#2a3f5f"
            },
            "type": "carpet"
           }
          ],
          "choropleth": [
           {
            "colorbar": {
             "outlinewidth": 0,
             "ticks": ""
            },
            "type": "choropleth"
           }
          ],
          "contour": [
           {
            "colorbar": {
             "outlinewidth": 0,
             "ticks": ""
            },
            "colorscale": [
             [
              0,
              "#0d0887"
             ],
             [
              0.1111111111111111,
              "#46039f"
             ],
             [
              0.2222222222222222,
              "#7201a8"
             ],
             [
              0.3333333333333333,
              "#9c179e"
             ],
             [
              0.4444444444444444,
              "#bd3786"
             ],
             [
              0.5555555555555556,
              "#d8576b"
             ],
             [
              0.6666666666666666,
              "#ed7953"
             ],
             [
              0.7777777777777778,
              "#fb9f3a"
             ],
             [
              0.8888888888888888,
              "#fdca26"
             ],
             [
              1,
              "#f0f921"
             ]
            ],
            "type": "contour"
           }
          ],
          "contourcarpet": [
           {
            "colorbar": {
             "outlinewidth": 0,
             "ticks": ""
            },
            "type": "contourcarpet"
           }
          ],
          "heatmap": [
           {
            "colorbar": {
             "outlinewidth": 0,
             "ticks": ""
            },
            "colorscale": [
             [
              0,
              "#0d0887"
             ],
             [
              0.1111111111111111,
              "#46039f"
             ],
             [
              0.2222222222222222,
              "#7201a8"
             ],
             [
              0.3333333333333333,
              "#9c179e"
             ],
             [
              0.4444444444444444,
              "#bd3786"
             ],
             [
              0.5555555555555556,
              "#d8576b"
             ],
             [
              0.6666666666666666,
              "#ed7953"
             ],
             [
              0.7777777777777778,
              "#fb9f3a"
             ],
             [
              0.8888888888888888,
              "#fdca26"
             ],
             [
              1,
              "#f0f921"
             ]
            ],
            "type": "heatmap"
           }
          ],
          "heatmapgl": [
           {
            "colorbar": {
             "outlinewidth": 0,
             "ticks": ""
            },
            "colorscale": [
             [
              0,
              "#0d0887"
             ],
             [
              0.1111111111111111,
              "#46039f"
             ],
             [
              0.2222222222222222,
              "#7201a8"
             ],
             [
              0.3333333333333333,
              "#9c179e"
             ],
             [
              0.4444444444444444,
              "#bd3786"
             ],
             [
              0.5555555555555556,
              "#d8576b"
             ],
             [
              0.6666666666666666,
              "#ed7953"
             ],
             [
              0.7777777777777778,
              "#fb9f3a"
             ],
             [
              0.8888888888888888,
              "#fdca26"
             ],
             [
              1,
              "#f0f921"
             ]
            ],
            "type": "heatmapgl"
           }
          ],
          "histogram": [
           {
            "marker": {
             "pattern": {
              "fillmode": "overlay",
              "size": 10,
              "solidity": 0.2
             }
            },
            "type": "histogram"
           }
          ],
          "histogram2d": [
           {
            "colorbar": {
             "outlinewidth": 0,
             "ticks": ""
            },
            "colorscale": [
             [
              0,
              "#0d0887"
             ],
             [
              0.1111111111111111,
              "#46039f"
             ],
             [
              0.2222222222222222,
              "#7201a8"
             ],
             [
              0.3333333333333333,
              "#9c179e"
             ],
             [
              0.4444444444444444,
              "#bd3786"
             ],
             [
              0.5555555555555556,
              "#d8576b"
             ],
             [
              0.6666666666666666,
              "#ed7953"
             ],
             [
              0.7777777777777778,
              "#fb9f3a"
             ],
             [
              0.8888888888888888,
              "#fdca26"
             ],
             [
              1,
              "#f0f921"
             ]
            ],
            "type": "histogram2d"
           }
          ],
          "histogram2dcontour": [
           {
            "colorbar": {
             "outlinewidth": 0,
             "ticks": ""
            },
            "colorscale": [
             [
              0,
              "#0d0887"
             ],
             [
              0.1111111111111111,
              "#46039f"
             ],
             [
              0.2222222222222222,
              "#7201a8"
             ],
             [
              0.3333333333333333,
              "#9c179e"
             ],
             [
              0.4444444444444444,
              "#bd3786"
             ],
             [
              0.5555555555555556,
              "#d8576b"
             ],
             [
              0.6666666666666666,
              "#ed7953"
             ],
             [
              0.7777777777777778,
              "#fb9f3a"
             ],
             [
              0.8888888888888888,
              "#fdca26"
             ],
             [
              1,
              "#f0f921"
             ]
            ],
            "type": "histogram2dcontour"
           }
          ],
          "mesh3d": [
           {
            "colorbar": {
             "outlinewidth": 0,
             "ticks": ""
            },
            "type": "mesh3d"
           }
          ],
          "parcoords": [
           {
            "line": {
             "colorbar": {
              "outlinewidth": 0,
              "ticks": ""
             }
            },
            "type": "parcoords"
           }
          ],
          "pie": [
           {
            "automargin": true,
            "type": "pie"
           }
          ],
          "scatter": [
           {
            "fillpattern": {
             "fillmode": "overlay",
             "size": 10,
             "solidity": 0.2
            },
            "type": "scatter"
           }
          ],
          "scatter3d": [
           {
            "line": {
             "colorbar": {
              "outlinewidth": 0,
              "ticks": ""
             }
            },
            "marker": {
             "colorbar": {
              "outlinewidth": 0,
              "ticks": ""
             }
            },
            "type": "scatter3d"
           }
          ],
          "scattercarpet": [
           {
            "marker": {
             "colorbar": {
              "outlinewidth": 0,
              "ticks": ""
             }
            },
            "type": "scattercarpet"
           }
          ],
          "scattergeo": [
           {
            "marker": {
             "colorbar": {
              "outlinewidth": 0,
              "ticks": ""
             }
            },
            "type": "scattergeo"
           }
          ],
          "scattergl": [
           {
            "marker": {
             "colorbar": {
              "outlinewidth": 0,
              "ticks": ""
             }
            },
            "type": "scattergl"
           }
          ],
          "scattermapbox": [
           {
            "marker": {
             "colorbar": {
              "outlinewidth": 0,
              "ticks": ""
             }
            },
            "type": "scattermapbox"
           }
          ],
          "scatterpolar": [
           {
            "marker": {
             "colorbar": {
              "outlinewidth": 0,
              "ticks": ""
             }
            },
            "type": "scatterpolar"
           }
          ],
          "scatterpolargl": [
           {
            "marker": {
             "colorbar": {
              "outlinewidth": 0,
              "ticks": ""
             }
            },
            "type": "scatterpolargl"
           }
          ],
          "scatterternary": [
           {
            "marker": {
             "colorbar": {
              "outlinewidth": 0,
              "ticks": ""
             }
            },
            "type": "scatterternary"
           }
          ],
          "surface": [
           {
            "colorbar": {
             "outlinewidth": 0,
             "ticks": ""
            },
            "colorscale": [
             [
              0,
              "#0d0887"
             ],
             [
              0.1111111111111111,
              "#46039f"
             ],
             [
              0.2222222222222222,
              "#7201a8"
             ],
             [
              0.3333333333333333,
              "#9c179e"
             ],
             [
              0.4444444444444444,
              "#bd3786"
             ],
             [
              0.5555555555555556,
              "#d8576b"
             ],
             [
              0.6666666666666666,
              "#ed7953"
             ],
             [
              0.7777777777777778,
              "#fb9f3a"
             ],
             [
              0.8888888888888888,
              "#fdca26"
             ],
             [
              1,
              "#f0f921"
             ]
            ],
            "type": "surface"
           }
          ],
          "table": [
           {
            "cells": {
             "fill": {
              "color": "#EBF0F8"
             },
             "line": {
              "color": "white"
             }
            },
            "header": {
             "fill": {
              "color": "#C8D4E3"
             },
             "line": {
              "color": "white"
             }
            },
            "type": "table"
           }
          ]
         },
         "layout": {
          "annotationdefaults": {
           "arrowcolor": "#2a3f5f",
           "arrowhead": 0,
           "arrowwidth": 1
          },
          "autotypenumbers": "strict",
          "coloraxis": {
           "colorbar": {
            "outlinewidth": 0,
            "ticks": ""
           }
          },
          "colorscale": {
           "diverging": [
            [
             0,
             "#8e0152"
            ],
            [
             0.1,
             "#c51b7d"
            ],
            [
             0.2,
             "#de77ae"
            ],
            [
             0.3,
             "#f1b6da"
            ],
            [
             0.4,
             "#fde0ef"
            ],
            [
             0.5,
             "#f7f7f7"
            ],
            [
             0.6,
             "#e6f5d0"
            ],
            [
             0.7,
             "#b8e186"
            ],
            [
             0.8,
             "#7fbc41"
            ],
            [
             0.9,
             "#4d9221"
            ],
            [
             1,
             "#276419"
            ]
           ],
           "sequential": [
            [
             0,
             "#0d0887"
            ],
            [
             0.1111111111111111,
             "#46039f"
            ],
            [
             0.2222222222222222,
             "#7201a8"
            ],
            [
             0.3333333333333333,
             "#9c179e"
            ],
            [
             0.4444444444444444,
             "#bd3786"
            ],
            [
             0.5555555555555556,
             "#d8576b"
            ],
            [
             0.6666666666666666,
             "#ed7953"
            ],
            [
             0.7777777777777778,
             "#fb9f3a"
            ],
            [
             0.8888888888888888,
             "#fdca26"
            ],
            [
             1,
             "#f0f921"
            ]
           ],
           "sequentialminus": [
            [
             0,
             "#0d0887"
            ],
            [
             0.1111111111111111,
             "#46039f"
            ],
            [
             0.2222222222222222,
             "#7201a8"
            ],
            [
             0.3333333333333333,
             "#9c179e"
            ],
            [
             0.4444444444444444,
             "#bd3786"
            ],
            [
             0.5555555555555556,
             "#d8576b"
            ],
            [
             0.6666666666666666,
             "#ed7953"
            ],
            [
             0.7777777777777778,
             "#fb9f3a"
            ],
            [
             0.8888888888888888,
             "#fdca26"
            ],
            [
             1,
             "#f0f921"
            ]
           ]
          },
          "colorway": [
           "#636efa",
           "#EF553B",
           "#00cc96",
           "#ab63fa",
           "#FFA15A",
           "#19d3f3",
           "#FF6692",
           "#B6E880",
           "#FF97FF",
           "#FECB52"
          ],
          "font": {
           "color": "#2a3f5f"
          },
          "geo": {
           "bgcolor": "white",
           "lakecolor": "white",
           "landcolor": "#E5ECF6",
           "showlakes": true,
           "showland": true,
           "subunitcolor": "white"
          },
          "hoverlabel": {
           "align": "left"
          },
          "hovermode": "closest",
          "mapbox": {
           "style": "light"
          },
          "paper_bgcolor": "white",
          "plot_bgcolor": "#E5ECF6",
          "polar": {
           "angularaxis": {
            "gridcolor": "white",
            "linecolor": "white",
            "ticks": ""
           },
           "bgcolor": "#E5ECF6",
           "radialaxis": {
            "gridcolor": "white",
            "linecolor": "white",
            "ticks": ""
           }
          },
          "scene": {
           "xaxis": {
            "backgroundcolor": "#E5ECF6",
            "gridcolor": "white",
            "gridwidth": 2,
            "linecolor": "white",
            "showbackground": true,
            "ticks": "",
            "zerolinecolor": "white"
           },
           "yaxis": {
            "backgroundcolor": "#E5ECF6",
            "gridcolor": "white",
            "gridwidth": 2,
            "linecolor": "white",
            "showbackground": true,
            "ticks": "",
            "zerolinecolor": "white"
           },
           "zaxis": {
            "backgroundcolor": "#E5ECF6",
            "gridcolor": "white",
            "gridwidth": 2,
            "linecolor": "white",
            "showbackground": true,
            "ticks": "",
            "zerolinecolor": "white"
           }
          },
          "shapedefaults": {
           "line": {
            "color": "#2a3f5f"
           }
          },
          "ternary": {
           "aaxis": {
            "gridcolor": "white",
            "linecolor": "white",
            "ticks": ""
           },
           "baxis": {
            "gridcolor": "white",
            "linecolor": "white",
            "ticks": ""
           },
           "bgcolor": "#E5ECF6",
           "caxis": {
            "gridcolor": "white",
            "linecolor": "white",
            "ticks": ""
           }
          },
          "title": {
           "x": 0.05
          },
          "xaxis": {
           "automargin": true,
           "gridcolor": "white",
           "linecolor": "white",
           "ticks": "",
           "title": {
            "standoff": 15
           },
           "zerolinecolor": "white",
           "zerolinewidth": 2
          },
          "yaxis": {
           "automargin": true,
           "gridcolor": "white",
           "linecolor": "white",
           "ticks": "",
           "title": {
            "standoff": 15
           },
           "zerolinecolor": "white",
           "zerolinewidth": 2
          }
         }
        },
        "title": {
         "text": "COVID-19 Vaccine Doses on 2022-01-01"
        }
       }
      }
     },
     "metadata": {},
     "output_type": "display_data"
    }
   ],
   "source": [
    "file_path = 'dataset_folder/covid_vaccinations.csv'\n",
    "\n",
    "dose_data = pd.read_csv(file_path)\n",
    "\n",
    "n = len(dose_data)\n",
    "\n",
    "list_of_countries = dose_data['Entity'].unique()\n",
    "\n",
    "def chloropleth_for_day(day_str):\n",
    "    day_data = dose_data[dose_data['Day'] == day_str]\n",
    "    \n",
    "    lib = day_data.groupby('Entity').agg(\n",
    "        Doses=('COVID-19 doses (daily, 7-day average, per million people)', 'sum')).reset_index()\n",
    "    \n",
    "    fig = px.choropleth(data_frame=lib,\n",
    "                        locations='Entity', \n",
    "                        locationmode='country names',\n",
    "                        color='Doses', \n",
    "                        color_continuous_scale='Blues', \n",
    "                        title=f'COVID-19 Vaccine Doses on {day_str}')\n",
    "    fig.show()\n",
    "\n",
    "chloropleth_for_day('2022-01-01')"
   ]
  },
  {
   "cell_type": "code",
   "execution_count": 27,
   "metadata": {},
   "outputs": [
    {
     "data": {
      "application/vnd.plotly.v1+json": {
       "config": {
        "plotlyServerURL": "https://plot.ly"
       },
       "data": [
        {
         "coloraxis": "coloraxis",
         "geo": "geo",
         "hovertemplate": "Entity=%{location}<br>Doses=%{z}<extra></extra>",
         "locationmode": "country names",
         "locations": [
          "Afghanistan",
          "Africa",
          "Albania",
          "Andorra",
          "Angola",
          "Anguilla",
          "Argentina",
          "Armenia",
          "Aruba",
          "Asia",
          "Australia",
          "Austria",
          "Bangladesh",
          "Barbados",
          "Belarus",
          "Belgium",
          "Belize",
          "Bermuda",
          "Botswana",
          "Brazil",
          "Brunei",
          "Bulgaria",
          "Burkina Faso",
          "Burundi",
          "Cambodia",
          "Cameroon",
          "Canada",
          "Cayman Islands",
          "Central African Republic",
          "Chad",
          "Chile",
          "Colombia",
          "Costa Rica",
          "Croatia",
          "Cuba",
          "Cyprus",
          "Czechia",
          "Democratic Republic of Congo",
          "Denmark",
          "Djibouti",
          "Dominican Republic",
          "East Timor",
          "Ecuador",
          "El Salvador",
          "Estonia",
          "Eswatini",
          "Europe",
          "European Union (27)",
          "Finland",
          "France",
          "Germany",
          "Ghana",
          "Greece",
          "Guatemala",
          "Guinea",
          "Guinea-Bissau",
          "Guyana",
          "Haiti",
          "High-income countries",
          "Honduras",
          "Hong Kong",
          "Iceland",
          "India",
          "Indonesia",
          "Iran",
          "Ireland",
          "Israel",
          "Italy",
          "Jamaica",
          "Japan",
          "Kuwait",
          "Kyrgyzstan",
          "Latvia",
          "Liechtenstein",
          "Lithuania",
          "Low-income countries",
          "Lower-middle-income countries",
          "Madagascar",
          "Malawi",
          "Malaysia",
          "Malta",
          "Mauritania",
          "Mauritius",
          "Moldova",
          "Monaco",
          "Mozambique",
          "Myanmar",
          "Namibia",
          "Nepal",
          "Netherlands",
          "New Zealand",
          "Nicaragua",
          "Niger",
          "Nigeria",
          "North America",
          "Norway",
          "Oceania",
          "Pakistan",
          "Panama",
          "Paraguay",
          "Peru",
          "Poland",
          "Portugal",
          "Russia",
          "Rwanda",
          "Sao Tome and Principe",
          "Senegal",
          "Sierra Leone",
          "Singapore",
          "Slovakia",
          "Slovenia",
          "Somalia",
          "South Africa",
          "South America",
          "South Sudan",
          "Spain",
          "Sudan",
          "Suriname",
          "Sweden",
          "Switzerland",
          "Taiwan",
          "Tajikistan",
          "Togo",
          "Tonga",
          "Trinidad and Tobago",
          "Tunisia",
          "Turkmenistan",
          "Ukraine",
          "Upper-middle-income countries",
          "Uruguay",
          "Uzbekistan",
          "Vietnam",
          "World",
          "Yemen",
          "Zambia",
          "Zimbabwe"
         ],
         "name": "",
         "type": "choropleth",
         "z": [
          3368.9712,
          482.77704,
          39.283764,
          0.48871127,
          410.505,
          62.26966,
          102.68194,
          29.703196,
          21.20486,
          125.534256,
          1011.03906,
          10.712132,
          333.78842,
          0.7590064,
          573.45245,
          3.9758167,
          3.8328624,
          135.11072,
          0,
          502.4865,
          39.109665,
          1.6324466,
          430.02094,
          2.3030057,
          341.01663,
          51.443058,
          182.82324,
          42.17917,
          1366.6392,
          4.0348415,
          756.47894,
          30.850964,
          1048.8201,
          1.7394073,
          2815.6875,
          325.27234,
          2.489543,
          480.41837,
          1.327608,
          251.60852,
          36.90924,
          21.417185,
          4.2931204,
          59.850266,
          8.888283,
          159.27435,
          118.9463,
          165.73814,
          8.845872,
          9.341687,
          46.6549,
          997.53284,
          6.2287884,
          5.183538,
          570.92334,
          33.38137,
          29.859127,
          86.73524,
          275.60846,
          33.101883,
          97.64377,
          406.19388,
          0.89858025,
          84.350136,
          24.005959,
          15.795319,
          95.857086,
          3.9416895,
          6.051745,
          1667.5571,
          3.5702505,
          214.12782,
          84.163795,
          5.084401,
          1.4199896,
          987.34814,
          112.61666,
          56.4956,
          239.95508,
          9.610141,
          3.631937,
          15.0142355,
          8.463416,
          12.382572,
          238.1214,
          3002.7395,
          674.07214,
          21.742487,
          249.61124,
          3.9894373,
          437.0423,
          900.6598,
          9.286682,
          394.452,
          88.71323,
          395.9639,
          644.3764,
          40.76664,
          303.24765,
          134.02797,
          338.56808,
          22.128757,
          10.61836,
          4.825466,
          578.24634,
          69.12045,
          115.27997,
          3025.3037,
          330.40604,
          525.93835,
          28.062613,
          726.3305,
          31.175312,
          324.10754,
          16.837034,
          1314.1843,
          449.74976,
          134.10551,
          180.77591,
          3.2821374,
          131.87387,
          892.863,
          4.8389378,
          181.93198,
          16.207857,
          7.2981706,
          2838.7166,
          149.2095,
          75.657684,
          82.136444,
          1826.6998,
          24.065422,
          200.24779,
          2.945132,
          35.934635,
          237.86253
         ]
        }
       ],
       "layout": {
        "coloraxis": {
         "colorbar": {
          "title": {
           "text": "Doses"
          }
         },
         "colorscale": [
          [
           0,
           "rgb(247,251,255)"
          ],
          [
           0.125,
           "rgb(222,235,247)"
          ],
          [
           0.25,
           "rgb(198,219,239)"
          ],
          [
           0.375,
           "rgb(158,202,225)"
          ],
          [
           0.5,
           "rgb(107,174,214)"
          ],
          [
           0.625,
           "rgb(66,146,198)"
          ],
          [
           0.75,
           "rgb(33,113,181)"
          ],
          [
           0.875,
           "rgb(8,81,156)"
          ],
          [
           1,
           "rgb(8,48,107)"
          ]
         ]
        },
        "geo": {
         "center": {},
         "domain": {
          "x": [
           0,
           1
          ],
          "y": [
           0,
           1
          ]
         }
        },
        "legend": {
         "tracegroupgap": 0
        },
        "template": {
         "data": {
          "bar": [
           {
            "error_x": {
             "color": "#2a3f5f"
            },
            "error_y": {
             "color": "#2a3f5f"
            },
            "marker": {
             "line": {
              "color": "#E5ECF6",
              "width": 0.5
             },
             "pattern": {
              "fillmode": "overlay",
              "size": 10,
              "solidity": 0.2
             }
            },
            "type": "bar"
           }
          ],
          "barpolar": [
           {
            "marker": {
             "line": {
              "color": "#E5ECF6",
              "width": 0.5
             },
             "pattern": {
              "fillmode": "overlay",
              "size": 10,
              "solidity": 0.2
             }
            },
            "type": "barpolar"
           }
          ],
          "carpet": [
           {
            "aaxis": {
             "endlinecolor": "#2a3f5f",
             "gridcolor": "white",
             "linecolor": "white",
             "minorgridcolor": "white",
             "startlinecolor": "#2a3f5f"
            },
            "baxis": {
             "endlinecolor": "#2a3f5f",
             "gridcolor": "white",
             "linecolor": "white",
             "minorgridcolor": "white",
             "startlinecolor": "#2a3f5f"
            },
            "type": "carpet"
           }
          ],
          "choropleth": [
           {
            "colorbar": {
             "outlinewidth": 0,
             "ticks": ""
            },
            "type": "choropleth"
           }
          ],
          "contour": [
           {
            "colorbar": {
             "outlinewidth": 0,
             "ticks": ""
            },
            "colorscale": [
             [
              0,
              "#0d0887"
             ],
             [
              0.1111111111111111,
              "#46039f"
             ],
             [
              0.2222222222222222,
              "#7201a8"
             ],
             [
              0.3333333333333333,
              "#9c179e"
             ],
             [
              0.4444444444444444,
              "#bd3786"
             ],
             [
              0.5555555555555556,
              "#d8576b"
             ],
             [
              0.6666666666666666,
              "#ed7953"
             ],
             [
              0.7777777777777778,
              "#fb9f3a"
             ],
             [
              0.8888888888888888,
              "#fdca26"
             ],
             [
              1,
              "#f0f921"
             ]
            ],
            "type": "contour"
           }
          ],
          "contourcarpet": [
           {
            "colorbar": {
             "outlinewidth": 0,
             "ticks": ""
            },
            "type": "contourcarpet"
           }
          ],
          "heatmap": [
           {
            "colorbar": {
             "outlinewidth": 0,
             "ticks": ""
            },
            "colorscale": [
             [
              0,
              "#0d0887"
             ],
             [
              0.1111111111111111,
              "#46039f"
             ],
             [
              0.2222222222222222,
              "#7201a8"
             ],
             [
              0.3333333333333333,
              "#9c179e"
             ],
             [
              0.4444444444444444,
              "#bd3786"
             ],
             [
              0.5555555555555556,
              "#d8576b"
             ],
             [
              0.6666666666666666,
              "#ed7953"
             ],
             [
              0.7777777777777778,
              "#fb9f3a"
             ],
             [
              0.8888888888888888,
              "#fdca26"
             ],
             [
              1,
              "#f0f921"
             ]
            ],
            "type": "heatmap"
           }
          ],
          "heatmapgl": [
           {
            "colorbar": {
             "outlinewidth": 0,
             "ticks": ""
            },
            "colorscale": [
             [
              0,
              "#0d0887"
             ],
             [
              0.1111111111111111,
              "#46039f"
             ],
             [
              0.2222222222222222,
              "#7201a8"
             ],
             [
              0.3333333333333333,
              "#9c179e"
             ],
             [
              0.4444444444444444,
              "#bd3786"
             ],
             [
              0.5555555555555556,
              "#d8576b"
             ],
             [
              0.6666666666666666,
              "#ed7953"
             ],
             [
              0.7777777777777778,
              "#fb9f3a"
             ],
             [
              0.8888888888888888,
              "#fdca26"
             ],
             [
              1,
              "#f0f921"
             ]
            ],
            "type": "heatmapgl"
           }
          ],
          "histogram": [
           {
            "marker": {
             "pattern": {
              "fillmode": "overlay",
              "size": 10,
              "solidity": 0.2
             }
            },
            "type": "histogram"
           }
          ],
          "histogram2d": [
           {
            "colorbar": {
             "outlinewidth": 0,
             "ticks": ""
            },
            "colorscale": [
             [
              0,
              "#0d0887"
             ],
             [
              0.1111111111111111,
              "#46039f"
             ],
             [
              0.2222222222222222,
              "#7201a8"
             ],
             [
              0.3333333333333333,
              "#9c179e"
             ],
             [
              0.4444444444444444,
              "#bd3786"
             ],
             [
              0.5555555555555556,
              "#d8576b"
             ],
             [
              0.6666666666666666,
              "#ed7953"
             ],
             [
              0.7777777777777778,
              "#fb9f3a"
             ],
             [
              0.8888888888888888,
              "#fdca26"
             ],
             [
              1,
              "#f0f921"
             ]
            ],
            "type": "histogram2d"
           }
          ],
          "histogram2dcontour": [
           {
            "colorbar": {
             "outlinewidth": 0,
             "ticks": ""
            },
            "colorscale": [
             [
              0,
              "#0d0887"
             ],
             [
              0.1111111111111111,
              "#46039f"
             ],
             [
              0.2222222222222222,
              "#7201a8"
             ],
             [
              0.3333333333333333,
              "#9c179e"
             ],
             [
              0.4444444444444444,
              "#bd3786"
             ],
             [
              0.5555555555555556,
              "#d8576b"
             ],
             [
              0.6666666666666666,
              "#ed7953"
             ],
             [
              0.7777777777777778,
              "#fb9f3a"
             ],
             [
              0.8888888888888888,
              "#fdca26"
             ],
             [
              1,
              "#f0f921"
             ]
            ],
            "type": "histogram2dcontour"
           }
          ],
          "mesh3d": [
           {
            "colorbar": {
             "outlinewidth": 0,
             "ticks": ""
            },
            "type": "mesh3d"
           }
          ],
          "parcoords": [
           {
            "line": {
             "colorbar": {
              "outlinewidth": 0,
              "ticks": ""
             }
            },
            "type": "parcoords"
           }
          ],
          "pie": [
           {
            "automargin": true,
            "type": "pie"
           }
          ],
          "scatter": [
           {
            "fillpattern": {
             "fillmode": "overlay",
             "size": 10,
             "solidity": 0.2
            },
            "type": "scatter"
           }
          ],
          "scatter3d": [
           {
            "line": {
             "colorbar": {
              "outlinewidth": 0,
              "ticks": ""
             }
            },
            "marker": {
             "colorbar": {
              "outlinewidth": 0,
              "ticks": ""
             }
            },
            "type": "scatter3d"
           }
          ],
          "scattercarpet": [
           {
            "marker": {
             "colorbar": {
              "outlinewidth": 0,
              "ticks": ""
             }
            },
            "type": "scattercarpet"
           }
          ],
          "scattergeo": [
           {
            "marker": {
             "colorbar": {
              "outlinewidth": 0,
              "ticks": ""
             }
            },
            "type": "scattergeo"
           }
          ],
          "scattergl": [
           {
            "marker": {
             "colorbar": {
              "outlinewidth": 0,
              "ticks": ""
             }
            },
            "type": "scattergl"
           }
          ],
          "scattermapbox": [
           {
            "marker": {
             "colorbar": {
              "outlinewidth": 0,
              "ticks": ""
             }
            },
            "type": "scattermapbox"
           }
          ],
          "scatterpolar": [
           {
            "marker": {
             "colorbar": {
              "outlinewidth": 0,
              "ticks": ""
             }
            },
            "type": "scatterpolar"
           }
          ],
          "scatterpolargl": [
           {
            "marker": {
             "colorbar": {
              "outlinewidth": 0,
              "ticks": ""
             }
            },
            "type": "scatterpolargl"
           }
          ],
          "scatterternary": [
           {
            "marker": {
             "colorbar": {
              "outlinewidth": 0,
              "ticks": ""
             }
            },
            "type": "scatterternary"
           }
          ],
          "surface": [
           {
            "colorbar": {
             "outlinewidth": 0,
             "ticks": ""
            },
            "colorscale": [
             [
              0,
              "#0d0887"
             ],
             [
              0.1111111111111111,
              "#46039f"
             ],
             [
              0.2222222222222222,
              "#7201a8"
             ],
             [
              0.3333333333333333,
              "#9c179e"
             ],
             [
              0.4444444444444444,
              "#bd3786"
             ],
             [
              0.5555555555555556,
              "#d8576b"
             ],
             [
              0.6666666666666666,
              "#ed7953"
             ],
             [
              0.7777777777777778,
              "#fb9f3a"
             ],
             [
              0.8888888888888888,
              "#fdca26"
             ],
             [
              1,
              "#f0f921"
             ]
            ],
            "type": "surface"
           }
          ],
          "table": [
           {
            "cells": {
             "fill": {
              "color": "#EBF0F8"
             },
             "line": {
              "color": "white"
             }
            },
            "header": {
             "fill": {
              "color": "#C8D4E3"
             },
             "line": {
              "color": "white"
             }
            },
            "type": "table"
           }
          ]
         },
         "layout": {
          "annotationdefaults": {
           "arrowcolor": "#2a3f5f",
           "arrowhead": 0,
           "arrowwidth": 1
          },
          "autotypenumbers": "strict",
          "coloraxis": {
           "colorbar": {
            "outlinewidth": 0,
            "ticks": ""
           }
          },
          "colorscale": {
           "diverging": [
            [
             0,
             "#8e0152"
            ],
            [
             0.1,
             "#c51b7d"
            ],
            [
             0.2,
             "#de77ae"
            ],
            [
             0.3,
             "#f1b6da"
            ],
            [
             0.4,
             "#fde0ef"
            ],
            [
             0.5,
             "#f7f7f7"
            ],
            [
             0.6,
             "#e6f5d0"
            ],
            [
             0.7,
             "#b8e186"
            ],
            [
             0.8,
             "#7fbc41"
            ],
            [
             0.9,
             "#4d9221"
            ],
            [
             1,
             "#276419"
            ]
           ],
           "sequential": [
            [
             0,
             "#0d0887"
            ],
            [
             0.1111111111111111,
             "#46039f"
            ],
            [
             0.2222222222222222,
             "#7201a8"
            ],
            [
             0.3333333333333333,
             "#9c179e"
            ],
            [
             0.4444444444444444,
             "#bd3786"
            ],
            [
             0.5555555555555556,
             "#d8576b"
            ],
            [
             0.6666666666666666,
             "#ed7953"
            ],
            [
             0.7777777777777778,
             "#fb9f3a"
            ],
            [
             0.8888888888888888,
             "#fdca26"
            ],
            [
             1,
             "#f0f921"
            ]
           ],
           "sequentialminus": [
            [
             0,
             "#0d0887"
            ],
            [
             0.1111111111111111,
             "#46039f"
            ],
            [
             0.2222222222222222,
             "#7201a8"
            ],
            [
             0.3333333333333333,
             "#9c179e"
            ],
            [
             0.4444444444444444,
             "#bd3786"
            ],
            [
             0.5555555555555556,
             "#d8576b"
            ],
            [
             0.6666666666666666,
             "#ed7953"
            ],
            [
             0.7777777777777778,
             "#fb9f3a"
            ],
            [
             0.8888888888888888,
             "#fdca26"
            ],
            [
             1,
             "#f0f921"
            ]
           ]
          },
          "colorway": [
           "#636efa",
           "#EF553B",
           "#00cc96",
           "#ab63fa",
           "#FFA15A",
           "#19d3f3",
           "#FF6692",
           "#B6E880",
           "#FF97FF",
           "#FECB52"
          ],
          "font": {
           "color": "#2a3f5f"
          },
          "geo": {
           "bgcolor": "white",
           "lakecolor": "white",
           "landcolor": "#E5ECF6",
           "showlakes": true,
           "showland": true,
           "subunitcolor": "white"
          },
          "hoverlabel": {
           "align": "left"
          },
          "hovermode": "closest",
          "mapbox": {
           "style": "light"
          },
          "paper_bgcolor": "white",
          "plot_bgcolor": "#E5ECF6",
          "polar": {
           "angularaxis": {
            "gridcolor": "white",
            "linecolor": "white",
            "ticks": ""
           },
           "bgcolor": "#E5ECF6",
           "radialaxis": {
            "gridcolor": "white",
            "linecolor": "white",
            "ticks": ""
           }
          },
          "scene": {
           "xaxis": {
            "backgroundcolor": "#E5ECF6",
            "gridcolor": "white",
            "gridwidth": 2,
            "linecolor": "white",
            "showbackground": true,
            "ticks": "",
            "zerolinecolor": "white"
           },
           "yaxis": {
            "backgroundcolor": "#E5ECF6",
            "gridcolor": "white",
            "gridwidth": 2,
            "linecolor": "white",
            "showbackground": true,
            "ticks": "",
            "zerolinecolor": "white"
           },
           "zaxis": {
            "backgroundcolor": "#E5ECF6",
            "gridcolor": "white",
            "gridwidth": 2,
            "linecolor": "white",
            "showbackground": true,
            "ticks": "",
            "zerolinecolor": "white"
           }
          },
          "shapedefaults": {
           "line": {
            "color": "#2a3f5f"
           }
          },
          "ternary": {
           "aaxis": {
            "gridcolor": "white",
            "linecolor": "white",
            "ticks": ""
           },
           "baxis": {
            "gridcolor": "white",
            "linecolor": "white",
            "ticks": ""
           },
           "bgcolor": "#E5ECF6",
           "caxis": {
            "gridcolor": "white",
            "linecolor": "white",
            "ticks": ""
           }
          },
          "title": {
           "x": 0.05
          },
          "xaxis": {
           "automargin": true,
           "gridcolor": "white",
           "linecolor": "white",
           "ticks": "",
           "title": {
            "standoff": 15
           },
           "zerolinecolor": "white",
           "zerolinewidth": 2
          },
          "yaxis": {
           "automargin": true,
           "gridcolor": "white",
           "linecolor": "white",
           "ticks": "",
           "title": {
            "standoff": 15
           },
           "zerolinecolor": "white",
           "zerolinewidth": 2
          }
         }
        },
        "title": {
         "text": "COVID-19 Vaccine Doses on 2023-06-01"
        }
       }
      }
     },
     "metadata": {},
     "output_type": "display_data"
    }
   ],
   "source": [
    "chloropleth_for_day('2023-06-01')"
   ]
  },
  {
   "cell_type": "markdown",
   "metadata": {},
   "source": [
    "We can specifically see high densities of vaccination rollout in the Middle-East in countries such as Afghanistan, Turkmenistan and Uzbekistan, as well as some African countries such as Mozambique and Sierra Leone. However, these visualisations only capture an instant in time so it would also be useful to see how the data changes over a continuous time period. The following graphs show the changes in vaccination rates for a few specific countries."
   ]
  },
  {
   "cell_type": "code",
   "execution_count": 8,
   "metadata": {},
   "outputs": [
    {
     "data": {
      "image/png": "[encoded data removed]",
      "text/plain": [
       "<Figure size 640x480 with 1 Axes>"
      ]
     },
     "metadata": {},
     "output_type": "display_data"
    }
   ],
   "source": [
    "uk_doses = []\n",
    "uk_time = []\n",
    "belgium_doses = []\n",
    "belgium_time = []\n",
    "\n",
    "for i in range(n):\n",
    "    if dose_data['Entity'][i] == 'United Kingdom':\n",
    "        uk_doses.append(dose_data['COVID-19 doses (daily, 7-day average, per million people)'][i])\n",
    "        uk_time.append(dose_data['Day'][i])\n",
    "\n",
    "for i in range(n):\n",
    "    if dose_data['Entity'][i] == 'Belgium':\n",
    "        belgium_doses.append(dose_data['COVID-19 doses (daily, 7-day average, per million people)'][i])\n",
    "        belgium_time.append(dose_data['Day'][i])\n",
    "\n",
    "plt.plot(uk_time, uk_doses, label = 'United Kingdom')\n",
    "plt.plot(belgium_time, belgium_doses, label = 'Belgium')\n",
    "plt.xticks(['2021-01-01', '2022-01-01', '2023-01-01', '2024-01-01'], [2021, 2022, 2023, 2024])\n",
    "plt.xlabel('Time in years')\n",
    "plt.ylabel('Covid-19 doses per million people')\n",
    "plt.legend()\n",
    "plt.show()"
   ]
  },
  {
   "cell_type": "markdown",
   "metadata": {},
   "source": [
    "The following graph uses second dataset and shows the COVID-19 deaths over time in UK and USA."
   ]
  },
  {
   "cell_type": "code",
   "execution_count": 9,
   "metadata": {},
   "outputs": [
    {
     "data": {
      "image/png": "[encoded data removed]",
      "text/plain": [
       "<Figure size 640x480 with 1 Axes>"
      ]
     },
     "metadata": {},
     "output_type": "display_data"
    }
   ],
   "source": [
    "file_path1 = \"dataset_folder/covid_deaths.csv\"\n",
    "\n",
    "deaths_data = pd.read_csv(file_path1)\n",
    "\n",
    "n = len(deaths_data)\n",
    "\n",
    "uk_deaths = []\n",
    "uk_time = []\n",
    "usa_deaths = []\n",
    "usa_time = []\n",
    "\n",
    "for i in range(n):\n",
    "    if deaths_data[\"Entity\"][i] == 'United Kingdom':\n",
    "        uk_deaths.append(deaths_data[\"Daily new confirmed deaths due to COVID-19 per million people (rolling 7-day average, right-aligned)\"][i])\n",
    "        uk_time.append(deaths_data[\"Day\"][i])\n",
    "\n",
    "for i in range(n):\n",
    "    if deaths_data[\"Entity\"][i] == \"United States\":\n",
    "        usa_deaths.append(deaths_data[\"Daily new confirmed deaths due to COVID-19 per million people (rolling 7-day average, right-aligned)\"][i])\n",
    "        usa_time.append(deaths_data[\"Day\"][i])\n",
    "\n",
    "plt.plot(uk_time, uk_deaths, label = \"United Kingdom\")\n",
    "plt.plot(usa_time, usa_deaths, label = \"USA\")\n",
    "plt.xticks(['2021-01-01', '2022-01-01', '2023-01-01', '2024-01-01'], [2021, 2022, 2023, 2024])\n",
    "plt.xlabel('Time in years')\n",
    "plt.ylabel('Daily new confirmed COVID-19 deaths per million people')\n",
    "plt.legend()\n",
    "plt.show()"
   ]
  },
  {
   "cell_type": "markdown",
   "metadata": {},
   "source": [
    "We want to analyse the relationship between COVID-19 deaths and vaccination rates, so we are going to use a simple linear regression model in order to see how changes in vaccination rates affect death rates."
   ]
  },
  {
   "cell_type": "code",
   "execution_count": 23,
   "metadata": {},
   "outputs": [],
   "source": [
    "merged_data = pd.merge(deaths_data, dose_data, on = ['Entity', 'Day'], how = 'inner') # Merge the two datasets\n",
    "\n",
    "X = merged_data[['COVID-19 doses (daily, 7-day average, per million people)']] # Independent variable\n",
    "Y = merged_data['Daily new confirmed deaths due to COVID-19 per million people (rolling 7-day average, right-aligned)'] # Dependent variable\n",
    "\n",
    "x_train, x_test, y_train, y_test = train_test_split(X, Y, test_size=0.2, random_state=42) # Split the data into testing and training data\n",
    "\n",
    "model = LinearRegression() # Initialise the Linear Regression Model\n",
    "\n",
    "model.fit(x_train, y_train)\n",
    "\n",
    "y_pred = model.predict(x_test) # Predict the COVID-19 death rate from the vaccination rate using the model"
   ]
  },
  {
   "cell_type": "markdown",
   "metadata": {},
   "source": [
    "Now we will evaluate the model predictions and visualise the results using metrics such as the Mean Squared Error (MSE) and R-squared to see how well the model fits the test data. The MSE tells us the average squared difference between the actual and predicted values which R-squared tells us how much variance in the dependent variable is explained by the independent variable."
   ]
  },
  {
   "cell_type": "code",
   "execution_count": 18,
   "metadata": {},
   "outputs": [
    {
     "name": "stdout",
     "output_type": "stream",
     "text": [
      "Mean Squared Error: 8.528163436249132\n",
      "R-squared: 0.019719536707508034\n"
     ]
    }
   ],
   "source": [
    "mse = mean_squared_error(y_test, y_pred)\n",
    "r2 = r2_score(y_test, y_pred)\n",
    "\n",
    "print(f'Mean Squared Error: {mse}')\n",
    "print(f'R-squared: {r2}')"
   ]
  },
  {
   "cell_type": "code",
   "execution_count": 20,
   "metadata": {},
   "outputs": [
    {
     "data": {
      "image/png": "[encoded data removed]",
      "text/plain": [
       "<Figure size 640x480 with 1 Axes>"
      ]
     },
     "metadata": {},
     "output_type": "display_data"
    }
   ],
   "source": [
    "plt.scatter(x_test, y_test, color='blue', label='Actual Data')\n",
    "plt.plot(x_test, y_pred, color='red', label='Predicted Line')\n",
    "plt.xlabel('Vaccination Rate')\n",
    "plt.ylabel('COVID Deaths')\n",
    "plt.title('Linear Regression: COVID Deaths vs. Vaccination Rate')\n",
    "plt.legend()\n",
    "plt.show()"
   ]
  },
  {
   "cell_type": "markdown",
   "metadata": {},
   "source": [
    "**Implications so far**\n",
    "\n",
    "The scatter plot shows a cluster of data points at lower vaccination rates, while the predicted line is relatively flat suggesting the linear model does not predict a strong relationship between these two variables. The R-squared value is also very close to zero, indicating that the model explains only 1.7% of the variance in the data, while the MSE of 8.52 suggests that the model isn't very predictive. Limitations of the model are that it is likely that COVID-19 deaths and vaccination rates don't have a simple linear relationship. Thus we will now try a Polynomial Regression model to see if this more complex model provides a more accurate prediction."
   ]
  },
  {
   "cell_type": "code",
   "execution_count": 25,
   "metadata": {},
   "outputs": [
    {
     "name": "stdout",
     "output_type": "stream",
     "text": [
      "Polynomial Model Mean Squared Error: 8.423868266911143\n",
      "Polynomial Model R-squared: 0.03170787601198788\n"
     ]
    }
   ],
   "source": [
    "poly = PolynomialFeatures(degree=2)\n",
    "x_train_poly = poly.fit_transform(x_train)\n",
    "x_test_poly = poly.transform(x_test)\n",
    "poly_model = LinearRegression()\n",
    "poly_model.fit(x_train_poly, y_train)\n",
    "y_pred_poly = poly_model.predict(x_test_poly) # Model prediction\n",
    "mse_poly = mean_squared_error(y_test, y_pred_poly) # MSE\n",
    "r2_poly = r2_score(y_test, y_pred_poly) # R-squared value\n",
    "print(f'Polynomial Model Mean Squared Error: {mse_poly}')\n",
    "print(f'Polynomial Model R-squared: {r2_poly}')"
   ]
  },
  {
   "cell_type": "code",
   "execution_count": 26,
   "metadata": {},
   "outputs": [
    {
     "data": {
      "image/png": "[encoded data removed]",
      "text/plain": [
       "<Figure size 640x480 with 1 Axes>"
      ]
     },
     "metadata": {},
     "output_type": "display_data"
    }
   ],
   "source": [
    "plt.scatter(x_test, y_test, color='blue', label='Actual Data')\n",
    "plt.plot(x_test, y_pred_poly, color='red', label='Polynomial Line')\n",
    "plt.xlabel('Vaccination Rate')\n",
    "plt.ylabel('COVID Deaths')\n",
    "plt.title('Polynomial Regression: COVID Deaths vs. Vaccination Rate')\n",
    "plt.legend()\n",
    "plt.show()"
   ]
  },
  {
   "cell_type": "markdown",
   "metadata": {},
   "source": [
    "For the polynomial model the MSE is slightly lower, indicating a slightly better fit. However the difference is very small suggesting that it is not much bettter than the linear model. Similarly, the R-squared value is marginally higher for the polynomial model but is still small, meaning that the polynomial model explains only a very small percentage of the variance in COVID-19 deaths. The polynomial line in the graph above shows weak predictive power and suggests a risk of overfitting around the noise in the data, rather than the actual trends. While the model introduces more flexibility, it still has low predictive power and there is still the concern of correlation vs causation. In order to further improve the model's predictive power, we will look at confounding variables such as government stringency and will consider the more complex model of a Random Forest."
   ]
  },
  {
   "cell_type": "markdown",
   "metadata": {},
   "source": [
    "The stringency index is defined by Our World in Data as \"a composite measure based on nine response indicators including school closures, workplaceclosures, and travel bans, rescaled to a value from 0 to 100 (100 = strictest) ... Since government policies may differ by vaccination status, a stringency index is calculated for three categories: those who are vaccinated; those who are non-vaccinated; and a national average which is weighted based on the share of people that are vaccinated\". For the sake of this model we will consider only the weighted average."
   ]
  },
  {
   "cell_type": "code",
   "execution_count": 34,
   "metadata": {},
   "outputs": [
    {
     "name": "stdout",
     "output_type": "stream",
     "text": [
      "Random Forest Mean Squared Error: 8.528163436249132\n",
      "Random Forest R-squared: 0.3673563228622446\n"
     ]
    }
   ],
   "source": [
    "file_path2 = \"dataset_folder/gov_stringency.csv\"\n",
    "\n",
    "gov_data = pd.read_csv(file_path2)\n",
    "data = pd.merge(merged_data, gov_data, on = ['Entity', 'Day'])\n",
    "\n",
    "X_rf = data[['COVID-19 doses (daily, 7-day average, per million people)', 'Stringency index (weighted average)']] # Independent variables\n",
    "Y_rf = data['Daily new confirmed deaths due to COVID-19 per million people (rolling 7-day average, right-aligned)'] # Dependent variable\n",
    "\n",
    "x_train_rf, x_test_rf, y_train_rf, y_test_rf = train_test_split(X_rf, Y_rf, test_size = 0.3, random_state = 42)\n",
    "\n",
    "rf_model = RandomForestRegressor(n_estimators=100, random_state=42) # Initialise the Random Forest Regressor\n",
    "rf_model.fit(x_train_rf, y_train_rf) # Train the model\n",
    "\n",
    "y_pred_rf = rf_model.predict(x_test_rf) # Model prediction\n",
    "mse_rf = mean_squared_error(y_test_rf, y_pred_rf)\n",
    "r2 = r2_score(y_test_rf, y_pred_rf)\n",
    "\n",
    "print(f\"Random Forest Mean Squared Error: {mse}\")\n",
    "print(f\"Random Forest R-squared: {r2}\")"
   ]
  },
  {
   "cell_type": "code",
   "execution_count": 43,
   "metadata": {},
   "outputs": [
    {
     "name": "stdout",
     "output_type": "stream",
     "text": [
      "Feature Importance of vaccinations: 0.5895803358777996\n",
      "Feature Importance of government stringency: 0.41041966412220043\n"
     ]
    }
   ],
   "source": [
    "importances = rf_model.feature_importances_ # Feature importances\n",
    "\n",
    "print(f\"Feature Importance of vaccinations: {importances[0]}\")\n",
    "print(f\"Feature Importance of government stringency: {importances[1]}\")"
   ]
  },
  {
   "cell_type": "markdown",
   "metadata": {},
   "source": [
    "The feature importances quantify how much each figure contributes to the model's predictive power. Thus we can see that vaccinations contribute more to the model's predictions compared with government stringency, however both variables provide a significant amount of predictive power in the Random Forest model, and are relatively close to 0.5 showing that no single feature is overwhelmingly dominant. \n",
    "\n",
    "**Conclusions**\n",
    "\n",
    "The use of a Linear Regression and Polynomial Regression models was relatively unsuccessful in explaining trends between vaccination and death rates. This could be due to a variety of factors including outliers in the data skewing the results, as well as our lack of control for confounding factors. However, using the Random Forest Model and accounting for some other factors using the dataset of government stringency, gave a more promising result with a significantly higher R-squared value, indicating correlation between the variables. \n",
    "\n",
    "**References**\n",
    "\n",
    "[Our World in Data](https://ourworldindata.org/) - The site providing the datasets\n",
    "\n",
    "[Built In](https://builtin.com/data-science/random-forest-algorithm) - A guide to Random Forests\n",
    "\n",
    "[GeeksForGeeks](https://www.geeksforgeeks.org/ml-advantages-and-disadvantages-of-linear-regression/) - Pros and cons of regression models"
   ]
  }
 ],
 "metadata": {
  "kernelspec": {
   "display_name": "Python 3",
   "language": "python",
   "name": "python3"
  },
  "language_info": {
   "codemirror_mode": {
    "name": "ipython",
    "version": 3
   },
   "file_extension": ".py",
   "mimetype": "text/x-python",
   "name": "python",
   "nbconvert_exporter": "python",
   "pygments_lexer": "ipython3",
   "version": "3.12.3"
  }
 },
 "nbformat": 4,
 "nbformat_minor": 2
}
